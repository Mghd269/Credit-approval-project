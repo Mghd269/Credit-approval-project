{
 "cells": [
  {
   "cell_type": "markdown",
   "metadata": {},
   "source": [
    "# Data preprocessing"
   ]
  },
  {
   "cell_type": "code",
   "execution_count": 49,
   "metadata": {},
   "outputs": [],
   "source": [
    "import pandas as pd\n",
    "import numpy as np\n",
    "from sklearn.preprocessing import MinMaxScaler\n",
    "import os"
   ]
  },
  {
   "cell_type": "code",
   "execution_count": 50,
   "metadata": {},
   "outputs": [
    {
     "name": "stdout",
     "output_type": "stream",
     "text": [
      "   Id   Income  Age  Experience Married/Single House_Ownership Car_Ownership  \\\n",
      "0   1  1303834   23           3         single          rented            no   \n",
      "1   2  7574516   40          10         single          rented            no   \n",
      "2   3  3991815   66           4        married          rented            no   \n",
      "3   4  6256451   41           2         single          rented           yes   \n",
      "4   5  5768871   47          11         single          rented            no   \n",
      "\n",
      "            Profession                 CITY           STATE  CURRENT_JOB_YRS  \\\n",
      "0  Mechanical_engineer                 Rewa  Madhya_Pradesh                3   \n",
      "1   Software_Developer             Parbhani     Maharashtra                9   \n",
      "2     Technical_writer            Alappuzha          Kerala                4   \n",
      "3   Software_Developer          Bhubaneswar          Odisha                2   \n",
      "4        Civil_servant  Tiruchirappalli[10]      Tamil_Nadu                3   \n",
      "\n",
      "   CURRENT_HOUSE_YRS  Risk_Flag  \n",
      "0                 13          0  \n",
      "1                 13          0  \n",
      "2                 10          0  \n",
      "3                 12          1  \n",
      "4                 14          1  \n"
     ]
    }
   ],
   "source": [
    "file = r\"C:\\Users\\glabm\\Desktop\\Credit approval project\\Credit-approval-project\\data\\01_raw\\loan_approval_dataset.json\"\n",
    "df = pd.read_json(file)\n",
    "print(df.head())"
   ]
  },
  {
   "cell_type": "code",
   "execution_count": 51,
   "metadata": {},
   "outputs": [
    {
     "name": "stdout",
     "output_type": "stream",
     "text": [
      "<class 'pandas.core.frame.DataFrame'>\n",
      "Index: 252000 entries, 0 to 251999\n",
      "Data columns (total 13 columns):\n",
      " #   Column             Non-Null Count   Dtype \n",
      "---  ------             --------------   ----- \n",
      " 0   Id                 252000 non-null  int64 \n",
      " 1   Income             252000 non-null  int64 \n",
      " 2   Age                252000 non-null  int64 \n",
      " 3   Experience         252000 non-null  int64 \n",
      " 4   Married/Single     252000 non-null  object\n",
      " 5   House_Ownership    252000 non-null  object\n",
      " 6   Car_Ownership      252000 non-null  object\n",
      " 7   Profession         252000 non-null  object\n",
      " 8   CITY               252000 non-null  object\n",
      " 9   STATE              252000 non-null  object\n",
      " 10  CURRENT_JOB_YRS    252000 non-null  int64 \n",
      " 11  CURRENT_HOUSE_YRS  252000 non-null  int64 \n",
      " 12  Risk_Flag          252000 non-null  int64 \n",
      "dtypes: int64(7), object(6)\n",
      "memory usage: 26.9+ MB\n",
      "None\n",
      "Id                   0\n",
      "Income               0\n",
      "Age                  0\n",
      "Experience           0\n",
      "Married/Single       0\n",
      "House_Ownership      0\n",
      "Car_Ownership        0\n",
      "Profession           0\n",
      "CITY                 0\n",
      "STATE                0\n",
      "CURRENT_JOB_YRS      0\n",
      "CURRENT_HOUSE_YRS    0\n",
      "Risk_Flag            0\n",
      "dtype: int64\n",
      "0\n"
     ]
    }
   ],
   "source": [
    "print(df.info())\n",
    "print(df.isna().sum())\n",
    "print(df.duplicated().sum())"
   ]
  },
  {
   "cell_type": "markdown",
   "metadata": {},
   "source": [
    "### Encoding categorical values"
   ]
  },
  {
   "cell_type": "code",
   "execution_count": 52,
   "metadata": {},
   "outputs": [
    {
     "name": "stdout",
     "output_type": "stream",
     "text": [
      "<class 'pandas.core.frame.DataFrame'>\n",
      "Index: 252000 entries, 0 to 251999\n",
      "Data columns (total 13 columns):\n",
      " #   Column             Non-Null Count   Dtype   \n",
      "---  ------             --------------   -----   \n",
      " 0   Id                 252000 non-null  int64   \n",
      " 1   Income             252000 non-null  int64   \n",
      " 2   Age                252000 non-null  int64   \n",
      " 3   Experience         252000 non-null  int64   \n",
      " 4   Married/Single     252000 non-null  category\n",
      " 5   House_Ownership    252000 non-null  category\n",
      " 6   Car_Ownership      252000 non-null  category\n",
      " 7   Profession         252000 non-null  category\n",
      " 8   CITY               252000 non-null  category\n",
      " 9   STATE              252000 non-null  category\n",
      " 10  CURRENT_JOB_YRS    252000 non-null  int64   \n",
      " 11  CURRENT_HOUSE_YRS  252000 non-null  int64   \n",
      " 12  Risk_Flag          252000 non-null  int64   \n",
      "dtypes: category(6), int64(7)\n",
      "memory usage: 17.1 MB\n",
      "None\n"
     ]
    }
   ],
   "source": [
    "category_columns = ['Married/Single', 'House_Ownership', 'Car_Ownership', 'Profession', 'CITY', 'STATE']\n",
    "\n",
    "for col in category_columns:\n",
    "    df[col] = df[col].astype('category')\n",
    "\n",
    "print(df.info())    "
   ]
  },
  {
   "cell_type": "markdown",
   "metadata": {},
   "source": [
    "### Normalizing data and saving it into file"
   ]
  },
  {
   "cell_type": "code",
   "execution_count": 53,
   "metadata": {},
   "outputs": [],
   "source": [
    "numeric_columns = ['Income', 'Age', 'Experience', 'CURRENT_JOB_YRS', 'CURRENT_HOUSE_YRS']\n",
    "data = df[numeric_columns]\n",
    "\n",
    "scaler = MinMaxScaler()\n",
    "normalized_data = scaler.fit_transform(data)\n",
    "\n",
    "folder_path = r'C:\\Users\\glabm\\Desktop\\Credit approval project\\Credit-approval-project\\data\\03_processed'\n",
    "full_path = os.path.join(folder_path, 'normalized_data.npy')\n",
    "\n",
    "np.save(full_path, normalized_data)"
   ]
  }
 ],
 "metadata": {
  "kernelspec": {
   "display_name": "base",
   "language": "python",
   "name": "python3"
  },
  "language_info": {
   "codemirror_mode": {
    "name": "ipython",
    "version": 3
   },
   "file_extension": ".py",
   "mimetype": "text/x-python",
   "name": "python",
   "nbconvert_exporter": "python",
   "pygments_lexer": "ipython3",
   "version": "3.11.7"
  }
 },
 "nbformat": 4,
 "nbformat_minor": 2
}
