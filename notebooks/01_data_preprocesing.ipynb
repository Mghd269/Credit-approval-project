{
 "cells": [
  {
   "cell_type": "markdown",
   "metadata": {},
   "source": [
    "# Data preprocessing"
   ]
  },
  {
   "cell_type": "code",
   "execution_count": 42,
   "metadata": {},
   "outputs": [],
   "source": [
    "import pandas as pd\n",
    "import numpy as np\n",
    "from sklearn.preprocessing import MinMaxScaler\n",
    "import os"
   ]
  },
  {
   "cell_type": "code",
   "execution_count": 43,
   "metadata": {},
   "outputs": [
    {
     "name": "stdout",
     "output_type": "stream",
     "text": [
      "   Id   Income  Age  Experience Married/Single House_Ownership Car_Ownership  \\\n",
      "0   1  1303834   23           3         single          rented            no   \n",
      "1   2  7574516   40          10         single          rented            no   \n",
      "2   3  3991815   66           4        married          rented            no   \n",
      "3   4  6256451   41           2         single          rented           yes   \n",
      "4   5  5768871   47          11         single          rented            no   \n",
      "\n",
      "            Profession                 CITY           STATE  CURRENT_JOB_YRS  \\\n",
      "0  Mechanical_engineer                 Rewa  Madhya_Pradesh                3   \n",
      "1   Software_Developer             Parbhani     Maharashtra                9   \n",
      "2     Technical_writer            Alappuzha          Kerala                4   \n",
      "3   Software_Developer          Bhubaneswar          Odisha                2   \n",
      "4        Civil_servant  Tiruchirappalli[10]      Tamil_Nadu                3   \n",
      "\n",
      "   CURRENT_HOUSE_YRS  Risk_Flag  \n",
      "0                 13          0  \n",
      "1                 13          0  \n",
      "2                 10          0  \n",
      "3                 12          1  \n",
      "4                 14          1  \n"
     ]
    }
   ],
   "source": [
    "file = r\"C:\\Users\\glabm\\Desktop\\Credit approval project\\Credit-approval-project\\data\\01_raw\\loan_approval_dataset.json\"\n",
    "df = pd.read_json(file)\n",
    "print(df.head())"
   ]
  },
  {
   "cell_type": "code",
   "execution_count": 44,
   "metadata": {},
   "outputs": [
    {
     "name": "stdout",
     "output_type": "stream",
     "text": [
      "<class 'pandas.core.frame.DataFrame'>\n",
      "Index: 252000 entries, 0 to 251999\n",
      "Data columns (total 13 columns):\n",
      " #   Column             Non-Null Count   Dtype \n",
      "---  ------             --------------   ----- \n",
      " 0   Id                 252000 non-null  int64 \n",
      " 1   Income             252000 non-null  int64 \n",
      " 2   Age                252000 non-null  int64 \n",
      " 3   Experience         252000 non-null  int64 \n",
      " 4   Married/Single     252000 non-null  object\n",
      " 5   House_Ownership    252000 non-null  object\n",
      " 6   Car_Ownership      252000 non-null  object\n",
      " 7   Profession         252000 non-null  object\n",
      " 8   CITY               252000 non-null  object\n",
      " 9   STATE              252000 non-null  object\n",
      " 10  CURRENT_JOB_YRS    252000 non-null  int64 \n",
      " 11  CURRENT_HOUSE_YRS  252000 non-null  int64 \n",
      " 12  Risk_Flag          252000 non-null  int64 \n",
      "dtypes: int64(7), object(6)\n",
      "memory usage: 26.9+ MB\n",
      "None\n",
      "Id                   0\n",
      "Income               0\n",
      "Age                  0\n",
      "Experience           0\n",
      "Married/Single       0\n",
      "House_Ownership      0\n",
      "Car_Ownership        0\n",
      "Profession           0\n",
      "CITY                 0\n",
      "STATE                0\n",
      "CURRENT_JOB_YRS      0\n",
      "CURRENT_HOUSE_YRS    0\n",
      "Risk_Flag            0\n",
      "dtype: int64\n",
      "0\n"
     ]
    }
   ],
   "source": [
    "print(df.info())\n",
    "print(df.isna().sum())\n",
    "print(df.duplicated().sum())"
   ]
  },
  {
   "cell_type": "markdown",
   "metadata": {},
   "source": [
    "### Encoding categorical values"
   ]
  },
  {
   "cell_type": "code",
   "execution_count": 49,
   "metadata": {},
   "outputs": [
    {
     "name": "stdout",
     "output_type": "stream",
     "text": [
      "<class 'pandas.core.frame.DataFrame'>\n",
      "Index: 252000 entries, 0 to 251999\n",
      "Data columns (total 13 columns):\n",
      " #   Column             Non-Null Count   Dtype   \n",
      "---  ------             --------------   -----   \n",
      " 0   Id                 252000 non-null  int64   \n",
      " 1   Income             252000 non-null  int64   \n",
      " 2   Age                252000 non-null  int64   \n",
      " 3   Experience         252000 non-null  int64   \n",
      " 4   Married/Single     252000 non-null  category\n",
      " 5   House_Ownership    231898 non-null  category\n",
      " 6   Car_Ownership      252000 non-null  category\n",
      " 7   Profession         252000 non-null  category\n",
      " 8   CITY               252000 non-null  category\n",
      " 9   STATE              252000 non-null  category\n",
      " 10  CURRENT_JOB_YRS    252000 non-null  int64   \n",
      " 11  CURRENT_HOUSE_YRS  252000 non-null  int64   \n",
      " 12  Risk_Flag          252000 non-null  int64   \n",
      "dtypes: category(6), int64(7)\n",
      "memory usage: 17.1 MB\n",
      "None\n"
     ]
    }
   ],
   "source": [
    "category_columns = ['Married/Single', 'House_Ownership', 'Car_Ownership', 'Profession', 'CITY', 'STATE']\n",
    "\n",
    "for col in category_columns:\n",
    "    df[col] = df[col].astype('category')\n",
    "\n",
    "print(df.info())  "
   ]
  },
  {
   "cell_type": "markdown",
   "metadata": {},
   "source": [
    "### Encoding binary variables"
   ]
  },
  {
   "cell_type": "code",
   "execution_count": 46,
   "metadata": {},
   "outputs": [
    {
     "data": {
      "text/html": [
       "<div>\n",
       "<style scoped>\n",
       "    .dataframe tbody tr th:only-of-type {\n",
       "        vertical-align: middle;\n",
       "    }\n",
       "\n",
       "    .dataframe tbody tr th {\n",
       "        vertical-align: top;\n",
       "    }\n",
       "\n",
       "    .dataframe thead th {\n",
       "        text-align: right;\n",
       "    }\n",
       "</style>\n",
       "<table border=\"1\" class=\"dataframe\">\n",
       "  <thead>\n",
       "    <tr style=\"text-align: right;\">\n",
       "      <th></th>\n",
       "      <th>Id</th>\n",
       "      <th>Income</th>\n",
       "      <th>Age</th>\n",
       "      <th>Experience</th>\n",
       "      <th>Married/Single</th>\n",
       "      <th>House_Ownership</th>\n",
       "      <th>Car_Ownership</th>\n",
       "      <th>Profession</th>\n",
       "      <th>CITY</th>\n",
       "      <th>STATE</th>\n",
       "      <th>CURRENT_JOB_YRS</th>\n",
       "      <th>CURRENT_HOUSE_YRS</th>\n",
       "      <th>Risk_Flag</th>\n",
       "    </tr>\n",
       "  </thead>\n",
       "  <tbody>\n",
       "    <tr>\n",
       "      <th>0</th>\n",
       "      <td>1</td>\n",
       "      <td>1303834</td>\n",
       "      <td>23</td>\n",
       "      <td>3</td>\n",
       "      <td>0</td>\n",
       "      <td>1.0</td>\n",
       "      <td>0</td>\n",
       "      <td>Mechanical_engineer</td>\n",
       "      <td>Rewa</td>\n",
       "      <td>Madhya_Pradesh</td>\n",
       "      <td>3</td>\n",
       "      <td>13</td>\n",
       "      <td>0</td>\n",
       "    </tr>\n",
       "    <tr>\n",
       "      <th>1</th>\n",
       "      <td>2</td>\n",
       "      <td>7574516</td>\n",
       "      <td>40</td>\n",
       "      <td>10</td>\n",
       "      <td>0</td>\n",
       "      <td>1.0</td>\n",
       "      <td>0</td>\n",
       "      <td>Software_Developer</td>\n",
       "      <td>Parbhani</td>\n",
       "      <td>Maharashtra</td>\n",
       "      <td>9</td>\n",
       "      <td>13</td>\n",
       "      <td>0</td>\n",
       "    </tr>\n",
       "    <tr>\n",
       "      <th>2</th>\n",
       "      <td>3</td>\n",
       "      <td>3991815</td>\n",
       "      <td>66</td>\n",
       "      <td>4</td>\n",
       "      <td>1</td>\n",
       "      <td>1.0</td>\n",
       "      <td>0</td>\n",
       "      <td>Technical_writer</td>\n",
       "      <td>Alappuzha</td>\n",
       "      <td>Kerala</td>\n",
       "      <td>4</td>\n",
       "      <td>10</td>\n",
       "      <td>0</td>\n",
       "    </tr>\n",
       "    <tr>\n",
       "      <th>3</th>\n",
       "      <td>4</td>\n",
       "      <td>6256451</td>\n",
       "      <td>41</td>\n",
       "      <td>2</td>\n",
       "      <td>0</td>\n",
       "      <td>1.0</td>\n",
       "      <td>1</td>\n",
       "      <td>Software_Developer</td>\n",
       "      <td>Bhubaneswar</td>\n",
       "      <td>Odisha</td>\n",
       "      <td>2</td>\n",
       "      <td>12</td>\n",
       "      <td>1</td>\n",
       "    </tr>\n",
       "    <tr>\n",
       "      <th>4</th>\n",
       "      <td>5</td>\n",
       "      <td>5768871</td>\n",
       "      <td>47</td>\n",
       "      <td>11</td>\n",
       "      <td>0</td>\n",
       "      <td>1.0</td>\n",
       "      <td>0</td>\n",
       "      <td>Civil_servant</td>\n",
       "      <td>Tiruchirappalli[10]</td>\n",
       "      <td>Tamil_Nadu</td>\n",
       "      <td>3</td>\n",
       "      <td>14</td>\n",
       "      <td>1</td>\n",
       "    </tr>\n",
       "  </tbody>\n",
       "</table>\n",
       "</div>"
      ],
      "text/plain": [
       "   Id   Income  Age  Experience Married/Single  House_Ownership Car_Ownership  \\\n",
       "0   1  1303834   23           3              0              1.0             0   \n",
       "1   2  7574516   40          10              0              1.0             0   \n",
       "2   3  3991815   66           4              1              1.0             0   \n",
       "3   4  6256451   41           2              0              1.0             1   \n",
       "4   5  5768871   47          11              0              1.0             0   \n",
       "\n",
       "            Profession                 CITY           STATE  CURRENT_JOB_YRS  \\\n",
       "0  Mechanical_engineer                 Rewa  Madhya_Pradesh                3   \n",
       "1   Software_Developer             Parbhani     Maharashtra                9   \n",
       "2     Technical_writer            Alappuzha          Kerala                4   \n",
       "3   Software_Developer          Bhubaneswar          Odisha                2   \n",
       "4        Civil_servant  Tiruchirappalli[10]      Tamil_Nadu                3   \n",
       "\n",
       "   CURRENT_HOUSE_YRS  Risk_Flag  \n",
       "0                 13          0  \n",
       "1                 13          0  \n",
       "2                 10          0  \n",
       "3                 12          1  \n",
       "4                 14          1  "
      ]
     },
     "execution_count": 46,
     "metadata": {},
     "output_type": "execute_result"
    }
   ],
   "source": [
    "df['Car_Ownership'] = df['Car_Ownership'].map({'yes': 1, 'no': 0})\n",
    "df['House_Ownership'] = df['House_Ownership'].map({'own': 2, 'noown_norent': 0, 'rented': 1})\n",
    "df['Married/Single'] = df['Married/Single'].map({'single': 0, 'married': 1})\n",
    "df.head()"
   ]
  },
  {
   "cell_type": "markdown",
   "metadata": {},
   "source": [
    "### Normalizing data and saving it into file"
   ]
  },
  {
   "cell_type": "code",
   "execution_count": 47,
   "metadata": {},
   "outputs": [],
   "source": [
    "scaler = MinMaxScaler()\n",
    "normalized_data = scaler.fit_transform(df[['Income', 'Age', 'Experience', 'CURRENT_JOB_YRS', 'CURRENT_HOUSE_YRS']])\n",
    "\n",
    "folder_path = r'C:\\Users\\glabm\\Desktop\\Credit approval project\\Credit-approval-project\\data\\03_processed'\n",
    "full_path = os.path.join(folder_path, 'normalized_data.npy')\n",
    "\n",
    "np.save(full_path, normalized_data)"
   ]
  },
  {
   "cell_type": "markdown",
   "metadata": {},
   "source": [
    "### Saving numerical and categorical data to separate files"
   ]
  },
  {
   "cell_type": "code",
   "execution_count": 48,
   "metadata": {},
   "outputs": [],
   "source": [
    "# Define categorical and numerical columns\n",
    "categorical_columns = ['Married/Single', 'House_Ownership','Car_Ownership','Profession', 'CITY', 'STATE', 'Risk_Flag']\n",
    "\n",
    "# Save categorical data to a file\n",
    "categorical_data = df[categorical_columns]\n",
    "categorical_data.to_csv(\"categorical_data.csv\", index=False)\n",
    "\n",
    "# Save numerical data to a file\n",
    "numerical_data = df[numerical_columns]\n",
    "numerical_data.to_csv(\"numerical_data.csv\", index=False)"
   ]
  }
 ],
 "metadata": {
  "kernelspec": {
   "display_name": "base",
   "language": "python",
   "name": "python3"
  },
  "language_info": {
   "codemirror_mode": {
    "name": "ipython",
    "version": 3
   },
   "file_extension": ".py",
   "mimetype": "text/x-python",
   "name": "python",
   "nbconvert_exporter": "python",
   "pygments_lexer": "ipython3",
   "version": "3.11.7"
  }
 },
 "nbformat": 4,
 "nbformat_minor": 2
}
