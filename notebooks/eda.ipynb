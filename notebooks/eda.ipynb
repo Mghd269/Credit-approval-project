{
 "cells": [
  {
   "cell_type": "markdown",
   "metadata": {},
   "source": [
    "### Exploratory Data Analysis"
   ]
  },
  {
   "cell_type": "code",
   "execution_count": 1,
   "metadata": {},
   "outputs": [],
   "source": [
    "import pandas as pd\n",
    "import numpy as np\n",
    "import matplotlib.pyplot as plt\n",
    "import seaborn as sns"
   ]
  },
  {
   "cell_type": "code",
   "execution_count": 7,
   "metadata": {},
   "outputs": [
    {
     "name": "stdout",
     "output_type": "stream",
     "text": [
      "  Married/Single House_Ownership           Profession                 CITY  \\\n",
      "0         single          rented  Mechanical_engineer                 Rewa   \n",
      "1         single          rented   Software_Developer             Parbhani   \n",
      "2        married          rented     Technical_writer            Alappuzha   \n",
      "3         single          rented   Software_Developer          Bhubaneswar   \n",
      "4         single          rented        Civil_servant  Tiruchirappalli[10]   \n",
      "\n",
      "            STATE  \n",
      "0  Madhya_Pradesh  \n",
      "1     Maharashtra  \n",
      "2          Kerala  \n",
      "3          Odisha  \n",
      "4      Tamil_Nadu  \n",
      "    Income  Age  Experience  CURRENT_JOB_YRS  CURRENT_HOUSE_YRS\n",
      "0  1303834   23           3                3                 13\n",
      "1  7574516   40          10                9                 13\n",
      "2  3991815   66           4                4                 10\n",
      "3  6256451   41           2                2                 12\n",
      "4  5768871   47          11                3                 14\n"
     ]
    }
   ],
   "source": [
    "df1 = pd.read_csv('data/02_interim/categorical_data.csv')\n",
    "df2 = pd.read_csv('data/02_interim/numerical_data.csv')\n",
    "\n",
    "print(df1.head())\n",
    "print(df2.head())"
   ]
  },
  {
   "cell_type": "code",
   "execution_count": 11,
   "metadata": {},
   "outputs": [
    {
     "name": "stdout",
     "output_type": "stream",
     "text": [
      "           Income        Age  Experience  CURRENT_JOB_YRS  CURRENT_HOUSE_YRS\n",
      "count   252000.00  252000.00   252000.00        252000.00           252000.0\n",
      "mean   4997116.67      49.95       10.08             6.33               12.0\n",
      "std    2878311.01      17.06        6.00             3.65                1.4\n",
      "min      10310.00      21.00        0.00             0.00               10.0\n",
      "25%    2503015.00      35.00        5.00             3.00               11.0\n",
      "50%    5000694.50      50.00       10.00             6.00               12.0\n",
      "75%    7477502.00      65.00       15.00             9.00               13.0\n",
      "max    9999938.00      79.00       20.00            14.00               14.0\n"
     ]
    }
   ],
   "source": [
    "print(df2.describe().round(2))"
   ]
  }
 ],
 "metadata": {
  "kernelspec": {
   "display_name": "base",
   "language": "python",
   "name": "python3"
  },
  "language_info": {
   "codemirror_mode": {
    "name": "ipython",
    "version": 3
   },
   "file_extension": ".py",
   "mimetype": "text/x-python",
   "name": "python",
   "nbconvert_exporter": "python",
   "pygments_lexer": "ipython3",
   "version": "3.11.7"
  }
 },
 "nbformat": 4,
 "nbformat_minor": 2
}
